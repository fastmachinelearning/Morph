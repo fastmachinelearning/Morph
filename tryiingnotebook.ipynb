{
 "cells": [
  {
   "cell_type": "code",
   "execution_count": null,
   "metadata": {},
   "outputs": [],
   "source": [
    "from data import DeepsetsDataset\n",
    "import torch\n",
    "import torch.nn as nn\n",
    "from models.blocks import *\n",
    "from utils.processor import evaluate_Deepsets, get_acc\n",
    "import torch.nn.utils.prune as prune\n"
   ]
  },
  {
   "cell_type": "code",
   "execution_count": null,
   "metadata": {},
   "outputs": [],
   "source": []
  }
 ],
 "metadata": {
  "language_info": {
   "name": "python"
  }
 },
 "nbformat": 4,
 "nbformat_minor": 2
}
